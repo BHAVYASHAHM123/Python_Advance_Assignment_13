{
  "cells": [
    {
      "cell_type": "markdown",
      "id": "2289fc65",
      "metadata": {
        "id": "2289fc65"
      },
      "source": [
        "Q1). Can you create a programme or function that employs both positive and negative indexing? Is there any repercussion if you do so?\n",
        "\n",
        "Ans) \n",
        "Python supports negative indexing of an iterable object. We can access the elements of a object from the end by indexes starting from -1, -2, -3... There is no repercussion if we use either positive or negative indexing."
      ]
    },
    {
      "cell_type": "code",
      "execution_count": null,
      "id": "abb0f047",
      "metadata": {
        "id": "abb0f047",
        "outputId": "bad7da98-d558-4057-a68e-4a8d29a6747a"
      },
      "outputs": [
        {
          "name": "stdout",
          "output_type": "stream",
          "text": [
            "abcdefg\n",
            "e\n",
            "cdefg\n",
            "def\n",
            "[1, 2, 3, 4, 5, 6, 7]\n",
            "5\n",
            "[3, 4, 5, 6, 7]\n",
            "[4, 5, 6]\n"
          ]
        }
      ],
      "source": [
        "def indexing(data, typ):\n",
        "    if typ == 'positive':\n",
        "        print(data[0:])\n",
        "        print(data[4])\n",
        "        print(data[2:len(data)])\n",
        "        print(data[3:len(data)-1])\n",
        "    if typ == 'negative':\n",
        "        print(data[-2])\n",
        "        print(data[-1:0:-1])\n",
        "        print(data[-6:-2])\n",
        "        print(data[-3:-1])     \n",
        "    \n",
        "indexing(\"abcdefg\",'positive')\n",
        "indexing([1,2,3,4,5,6,7],'positive')    "
      ]
    },
    {
      "cell_type": "markdown",
      "id": "2503f4b1",
      "metadata": {
        "id": "2503f4b1"
      },
      "source": [
        "Q2). What is the most effective way of starting with 1,000 elements in a Python list? Assume that all elements should be set to the same value."
      ]
    },
    {
      "cell_type": "code",
      "execution_count": 1,
      "id": "f9a7c66b",
      "metadata": {
        "colab": {
          "base_uri": "https://localhost:8080/"
        },
        "id": "f9a7c66b",
        "outputId": "2d038fb2-dcb5-49a5-d7d0-82ced46994df"
      },
      "outputs": [
        {
          "output_type": "stream",
          "name": "stdout",
          "text": [
            "Length of the list is:: 1000\n",
            "[5, 5, 5, 5, 5, 5, 5, 5, 5, 5, 5, 5, 5, 5, 5, 5, 5, 5, 5, 5, 5, 5, 5, 5, 5, 5, 5, 5, 5, 5, 5, 5, 5, 5, 5, 5, 5, 5, 5, 5, 5, 5, 5, 5, 5, 5, 5, 5, 5, 5, 5, 5, 5, 5, 5, 5, 5, 5, 5, 5, 5, 5, 5, 5, 5, 5, 5, 5, 5, 5, 5, 5, 5, 5, 5, 5, 5, 5, 5, 5, 5, 5, 5, 5, 5, 5, 5, 5, 5, 5, 5, 5, 5, 5, 5, 5, 5, 5, 5, 5, 5, 5, 5, 5, 5, 5, 5, 5, 5, 5, 5, 5, 5, 5, 5, 5, 5, 5, 5, 5, 5, 5, 5, 5, 5, 5, 5, 5, 5, 5, 5, 5, 5, 5, 5, 5, 5, 5, 5, 5, 5, 5, 5, 5, 5, 5, 5, 5, 5, 5, 5, 5, 5, 5, 5, 5, 5, 5, 5, 5, 5, 5, 5, 5, 5, 5, 5, 5, 5, 5, 5, 5, 5, 5, 5, 5, 5, 5, 5, 5, 5, 5, 5, 5, 5, 5, 5, 5, 5, 5, 5, 5, 5, 5, 5, 5, 5, 5, 5, 5, 5, 5, 5, 5, 5, 5, 5, 5, 5, 5, 5, 5, 5, 5, 5, 5, 5, 5, 5, 5, 5, 5, 5, 5, 5, 5, 5, 5, 5, 5, 5, 5, 5, 5, 5, 5, 5, 5, 5, 5, 5, 5, 5, 5, 5, 5, 5, 5, 5, 5, 5, 5, 5, 5, 5, 5, 5, 5, 5, 5, 5, 5, 5, 5, 5, 5, 5, 5, 5, 5, 5, 5, 5, 5, 5, 5, 5, 5, 5, 5, 5, 5, 5, 5, 5, 5, 5, 5, 5, 5, 5, 5, 5, 5, 5, 5, 5, 5, 5, 5, 5, 5, 5, 5, 5, 5, 5, 5, 5, 5, 5, 5, 5, 5, 5, 5, 5, 5, 5, 5, 5, 5, 5, 5, 5, 5, 5, 5, 5, 5, 5, 5, 5, 5, 5, 5, 5, 5, 5, 5, 5, 5, 5, 5, 5, 5, 5, 5, 5, 5, 5, 5, 5, 5, 5, 5, 5, 5, 5, 5, 5, 5, 5, 5, 5, 5, 5, 5, 5, 5, 5, 5, 5, 5, 5, 5, 5, 5, 5, 5, 5, 5, 5, 5, 5, 5, 5, 5, 5, 5, 5, 5, 5, 5, 5, 5, 5, 5, 5, 5, 5, 5, 5, 5, 5, 5, 5, 5, 5, 5, 5, 5, 5, 5, 5, 5, 5, 5, 5, 5, 5, 5, 5, 5, 5, 5, 5, 5, 5, 5, 5, 5, 5, 5, 5, 5, 5, 5, 5, 5, 5, 5, 5, 5, 5, 5, 5, 5, 5, 5, 5, 5, 5, 5, 5, 5, 5, 5, 5, 5, 5, 5, 5, 5, 5, 5, 5, 5, 5, 5, 5, 5, 5, 5, 5, 5, 5, 5, 5, 5, 5, 5, 5, 5, 5, 5, 5, 5, 5, 5, 5, 5, 5, 5, 5, 5, 5, 5, 5, 5, 5, 5, 5, 5, 5, 5, 5, 5, 5, 5, 5, 5, 5, 5, 5, 5, 5, 5, 5, 5, 5, 5, 5, 5, 5, 5, 5, 5, 5, 5, 5, 5, 5, 5, 5, 5, 5, 5, 5, 5, 5, 5, 5, 5, 5, 5, 5, 5, 5, 5, 5, 5, 5, 5, 5, 5, 5, 5, 5, 5, 5, 5, 5, 5, 5, 5, 5, 5, 5, 5, 5, 5, 5, 5, 5, 5, 5, 5, 5, 5, 5, 5, 5, 5, 5, 5, 5, 5, 5, 5, 5, 5, 5, 5, 5, 5, 5, 5, 5, 5, 5, 5, 5, 5, 5, 5, 5, 5, 5, 5, 5, 5, 5, 5, 5, 5, 5, 5, 5, 5, 5, 5, 5, 5, 5, 5, 5, 5, 5, 5, 5, 5, 5, 5, 5, 5, 5, 5, 5, 5, 5, 5, 5, 5, 5, 5, 5, 5, 5, 5, 5, 5, 5, 5, 5, 5, 5, 5, 5, 5, 5, 5, 5, 5, 5, 5, 5, 5, 5, 5, 5, 5, 5, 5, 5, 5, 5, 5, 5, 5, 5, 5, 5, 5, 5, 5, 5, 5, 5, 5, 5, 5, 5, 5, 5, 5, 5, 5, 5, 5, 5, 5, 5, 5, 5, 5, 5, 5, 5, 5, 5, 5, 5, 5, 5, 5, 5, 5, 5, 5, 5, 5, 5, 5, 5, 5, 5, 5, 5, 5, 5, 5, 5, 5, 5, 5, 5, 5, 5, 5, 5, 5, 5, 5, 5, 5, 5, 5, 5, 5, 5, 5, 5, 5, 5, 5, 5, 5, 5, 5, 5, 5, 5, 5, 5, 5, 5, 5, 5, 5, 5, 5, 5, 5, 5, 5, 5, 5, 5, 5, 5, 5, 5, 5, 5, 5, 5, 5, 5, 5, 5, 5, 5, 5, 5, 5, 5, 5, 5, 5, 5, 5, 5, 5, 5, 5, 5, 5, 5, 5, 5, 5, 5, 5, 5, 5, 5, 5, 5, 5, 5, 5, 5, 5, 5, 5, 5, 5, 5, 5, 5, 5, 5, 5, 5, 5, 5, 5, 5, 5, 5, 5, 5, 5, 5, 5, 5, 5, 5, 5, 5, 5, 5, 5, 5, 5, 5, 5, 5, 5, 5, 5, 5, 5, 5, 5, 5, 5, 5, 5, 5, 5, 5, 5, 5, 5, 5, 5, 5, 5, 5, 5, 5, 5, 5, 5, 5, 5, 5, 5, 5, 5, 5, 5, 5, 5, 5, 5, 5, 5, 5, 5, 5, 5, 5, 5, 5, 5, 5, 5, 5, 5, 5, 5, 5, 5, 5, 5, 5, 5, 5, 5, 5, 5, 5, 5, 5, 5, 5, 5, 5, 5, 5, 5, 5, 5, 5, 5, 5, 5, 5, 5, 5, 5, 5, 5, 5, 5, 5, 5, 5, 5, 5, 5, 5, 5, 5, 5, 5, 5, 5, 5, 5, 5, 5, 5, 5, 5, 5, 5, 5, 5, 5, 5, 5, 5, 5, 5, 5, 5, 5, 5, 5, 5, 5, 5, 5, 5, 5, 5, 5, 5, 5, 5, 5, 5, 5, 5, 5, 5]\n"
          ]
        }
      ],
      "source": [
        "my_list = [5] * 1000\n",
        "print(\"Length of the list is::\",len(my_list))\n",
        "print(my_list)"
      ]
    },
    {
      "cell_type": "markdown",
      "id": "594924f8",
      "metadata": {
        "id": "594924f8"
      },
      "source": [
        "Q3). How do you slice a list to get any other part while missing the rest? (For example, suppose you want to make a new list with the elements first, third, fifth, seventh, and so on.)"
      ]
    },
    {
      "cell_type": "code",
      "execution_count": 2,
      "id": "20347cfd",
      "metadata": {
        "colab": {
          "base_uri": "https://localhost:8080/"
        },
        "id": "20347cfd",
        "outputId": "1771e7d9-ca6d-4b35-9c01-211c6c0458c1"
      },
      "outputs": [
        {
          "output_type": "stream",
          "name": "stdout",
          "text": [
            "[2, 4, 6, 8, 10]\n"
          ]
        }
      ],
      "source": [
        "my_list = [1,2,3,4,5,6,7,8,9,10]\n",
        "\n",
        "new_list = my_list[1:len(my_list):2]\n",
        "\n",
        "print(new_list)"
      ]
    },
    {
      "cell_type": "markdown",
      "id": "ab527878",
      "metadata": {
        "id": "ab527878"
      },
      "source": [
        "Q4). Explain the distinctions between indexing and slicing."
      ]
    },
    {
      "cell_type": "code",
      "execution_count": 3,
      "id": "8f8a9af1",
      "metadata": {
        "colab": {
          "base_uri": "https://localhost:8080/"
        },
        "id": "8f8a9af1",
        "outputId": "8b33af6d-f1a5-401a-d9c7-a1bfde2835f6"
      },
      "outputs": [
        {
          "output_type": "stream",
          "name": "stdout",
          "text": [
            "[2, 4, 6, 8, 10, 12]\n",
            "6\n"
          ]
        }
      ],
      "source": [
        "my_list = [1,2,3,4,5,6,7,8,9,10,11,12]\n",
        "\n",
        "new_list = my_list[1:len(my_list):2] \n",
        "\n",
        "print(new_list)\n",
        "\n",
        "print(new_list[2]) "
      ]
    },
    {
      "cell_type": "markdown",
      "id": "9199241e",
      "metadata": {
        "id": "9199241e"
      },
      "source": [
        "Q5). What happens if one of the slicing expression's indexes is out of range?\n",
        "\n",
        "Ans) Using an index number that is out of the range of the list. You'll get the Indexerror: list index out of range error when you try and access an item using a value that is out of the index range of the list and does not exist"
      ]
    },
    {
      "cell_type": "code",
      "execution_count": null,
      "id": "e7b0dce9",
      "metadata": {
        "id": "e7b0dce9",
        "outputId": "cc0781a9-d364-424d-b0a4-216df9eda67f"
      },
      "outputs": [
        {
          "name": "stdout",
          "output_type": "stream",
          "text": [
            "[2, 4, 6, 8, 10, 12]\n"
          ]
        }
      ],
      "source": [
        "print(new_list[0:12])"
      ]
    },
    {
      "cell_type": "markdown",
      "id": "c10258ac",
      "metadata": {
        "id": "c10258ac"
      },
      "source": [
        "Q6). If you pass a list to a function, and if you want the function to be able to change the values of the list—so that the list is different after the function returns—what action should you avoid?\n",
        "\n",
        "Ans)\n",
        "Because lists and dictionaries are mutable, changing them (even inside a function) changes the list or dictionary itself, which isn't the case for immutable data types."
      ]
    },
    {
      "cell_type": "code",
      "execution_count": 4,
      "id": "8f2b4603",
      "metadata": {
        "colab": {
          "base_uri": "https://localhost:8080/"
        },
        "id": "8f2b4603",
        "outputId": "7600cb57-e627-4612-a42e-5d6852d15190"
      },
      "outputs": [
        {
          "output_type": "stream",
          "name": "stdout",
          "text": [
            "Original list is [1, 2, 3, 4]\n",
            "Call by reference alters list to [1, 4, 9, 16]\n",
            "\n",
            " Original list is [1, 2, 3, 4]\n",
            "Before doing anything, list is:: [1, 2, 3, 4]\n",
            "After assigning new values, list is:: [100, 200, 300, 400, 500]\n",
            "After calling function, list is:: [1, 2, 3, 4]\n"
          ]
        }
      ],
      "source": [
        "def fun(l1):\n",
        "    for i in range(len(l1)):\n",
        "        l1[i] = l1[i]**2\n",
        "    return l1\n",
        "\n",
        "l  = [1,2,3,4]\n",
        "print(\"Original list is\",l)\n",
        "print(\"Call by reference alters list to\",fun(l))\n",
        "\n",
        "\n",
        "def fun1(l2):\n",
        "    print('Before doing anything, list is::',l2)\n",
        "    l2 = [100,200,300,400,500]\n",
        "    print(\"After assigning new values, list is::\",l2)\n",
        "\n",
        "l  = [1,2,3,4]\n",
        "print(\"\\n Original list is\",l)\n",
        "fun1(l)\n",
        "print(\"After calling function, list is::\",l)\n"
      ]
    },
    {
      "cell_type": "markdown",
      "id": "8f3d4f28",
      "metadata": {
        "id": "8f3d4f28"
      },
      "source": [
        "Q7). What is the concept of an unbalanced matrix?\n",
        "\n",
        "Ans) \n",
        "A matrix is balanced if all cells in the matrix are balanced and a cell of the matrix is balanced if the number of cells in that matrix that are adjacent to that cell is strictly greater than the value written in this cell. Adjacent cell means cells in the top, down, left, and right cell of each cell if it exists. "
      ]
    },
    {
      "cell_type": "code",
      "execution_count": 5,
      "id": "82d4eccc",
      "metadata": {
        "colab": {
          "base_uri": "https://localhost:8080/"
        },
        "id": "82d4eccc",
        "outputId": "89dfbc76-b2b1-4264-ec72-78e3b9a848f0"
      },
      "outputs": [
        {
          "output_type": "execute_result",
          "data": {
            "text/plain": [
              "matrix([[1, 2, 3],\n",
              "        [4, 5, 6],\n",
              "        [7, 8, 9]])"
            ]
          },
          "metadata": {},
          "execution_count": 5
        }
      ],
      "source": [
        "import numpy as np\n",
        "\n",
        "mat = np.matrix([[1, 2, 3],[4, 5, 6],[7, 8, 9]])\n",
        "mat \n",
        "\n",
        "# This is unbalanced matrix"
      ]
    },
    {
      "cell_type": "markdown",
      "id": "95cfa01c",
      "metadata": {
        "id": "95cfa01c"
      },
      "source": [
        "Q8). Why is it necessary to use either list comprehension or a loop to create arbitrarily large matrices?\n",
        "\n",
        "Ans) In Python 3, we can use numpy library to create large matrices instaed of list comprehension or a loop."
      ]
    },
    {
      "cell_type": "markdown",
      "id": "2616f400",
      "metadata": {
        "id": "2616f400"
      },
      "source": [
        ""
      ]
    }
  ],
  "metadata": {
    "kernelspec": {
      "display_name": "Python 3",
      "language": "python",
      "name": "python3"
    },
    "language_info": {
      "codemirror_mode": {
        "name": "ipython",
        "version": 3
      },
      "file_extension": ".py",
      "mimetype": "text/x-python",
      "name": "python",
      "nbconvert_exporter": "python",
      "pygments_lexer": "ipython3",
      "version": "3.8.8"
    },
    "colab": {
      "name": "Python_Advance_Assignment_13.ipynb",
      "provenance": []
    }
  },
  "nbformat": 4,
  "nbformat_minor": 5
}